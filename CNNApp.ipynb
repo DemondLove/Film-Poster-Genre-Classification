{
 "cells": [
  {
   "cell_type": "code",
   "execution_count": 1,
   "metadata": {},
   "outputs": [
    {
     "name": "stdout",
     "output_type": "stream",
     "text": [
      "src.dataIO.readCSV\n",
      "src.dataPrep.filterNULLs\n",
      "src.dataPrep.extractPrimaryGenre\n",
      "src.dataPrep.filterGenres\n",
      "src.dataIO.downloadPosterArray\n",
      "src.dataPrep.convertGenreVariable\n"
     ]
    }
   ],
   "source": [
    "# Import Libraries\n",
    "from src import cnn\n",
    "from src import dataIO\n",
    "from src import dataPrep\n",
    "\n",
    "# Import CSV with links to the poster jpegs\n",
    "df = dataIO.readCSV(path='data/', file_name='MovieGenre.csv', encoding ='ISO-8859-1')\n",
    "\n",
    "df = dataPrep.filterNULLs(df)\n",
    "\n",
    "df = dataPrep.extractPrimaryGenre(df)\n",
    "\n",
    "df = dataPrep.filterGenres(df)\n",
    "\n",
    "df, posterArray = dataIO.downloadPosterArray(df)\n",
    "\n",
    "primaryGenre = dataPrep.convertGenreVariable(df)\n",
    "\n",
    "# dataIO.saveDatasets(df=df, posterArray=posterArray, file_name_df='df2', file_name_posterArray='posterArray2')"
   ]
  },
  {
   "cell_type": "code",
   "execution_count": 2,
   "metadata": {},
   "outputs": [],
   "source": [
    "# df, posterArray = dataIO.readSavedDatasets(file_name_df='df', file_name_posterArray='posterArray')\n",
    "\n",
    "# primaryGenre = dataPrep.convertGenreVariable(df)"
   ]
  },
  {
   "cell_type": "code",
   "execution_count": 3,
   "metadata": {},
   "outputs": [],
   "source": [
    "train_y = primaryGenre[:300]\n",
    "test_y = primaryGenre[300:]\n",
    "\n",
    "train_x = posterArray[:300]\n",
    "test_x = posterArray[300:]"
   ]
  },
  {
   "cell_type": "code",
   "execution_count": 4,
   "metadata": {},
   "outputs": [
    {
     "name": "stdout",
     "output_type": "stream",
     "text": [
      "src.cnn.developModel\n"
     ]
    }
   ],
   "source": [
    "model = cnn.buildModel()"
   ]
  },
  {
   "cell_type": "code",
   "execution_count": 5,
   "metadata": {},
   "outputs": [
    {
     "name": "stdout",
     "output_type": "stream",
     "text": [
      "Epoch 1/3\n",
      "10/10 [==============================] - 17s 2s/step - loss: 64.9425 - acc: 0.3133\n",
      "Epoch 2/3\n",
      "10/10 [==============================] - 15s 1s/step - loss: 16.0102 - acc: 0.6233\n",
      "Epoch 3/3\n",
      "10/10 [==============================] - 15s 1s/step - loss: 7.7832 - acc: 0.7733\n"
     ]
    }
   ],
   "source": [
    "history = model.fit(train_x,\n",
    "                    train_y,\n",
    "                    epochs=3)"
   ]
  },
  {
   "cell_type": "code",
   "execution_count": 6,
   "metadata": {},
   "outputs": [
    {
     "name": "stdout",
     "output_type": "stream",
     "text": [
      "src.dataPrep.reshapeTestDataset\n"
     ]
    }
   ],
   "source": [
    "test_sample = dataPrep.reshapeTestDataset(test_x)"
   ]
  },
  {
   "cell_type": "code",
   "execution_count": 7,
   "metadata": {},
   "outputs": [],
   "source": [
    "predictions = model.predict(test_sample)"
   ]
  },
  {
   "cell_type": "code",
   "execution_count": 8,
   "metadata": {},
   "outputs": [
    {
     "name": "stdout",
     "output_type": "stream",
     "text": [
      "src.cnn.calculateCategoricalAccuracy\n"
     ]
    },
    {
     "data": {
      "text/plain": [
       "0.34615386"
      ]
     },
     "execution_count": 8,
     "metadata": {},
     "output_type": "execute_result"
    }
   ],
   "source": [
    "cnn.calculateCategoricalAccuracy(test_y, predictions)"
   ]
  },
  {
   "cell_type": "code",
   "execution_count": 9,
   "metadata": {},
   "outputs": [
    {
     "name": "stdout",
     "output_type": "stream",
     "text": [
      "src.cnn.calculateTopKCategoricalAccuracy\n"
     ]
    },
    {
     "data": {
      "text/plain": [
       "0.5"
      ]
     },
     "execution_count": 9,
     "metadata": {},
     "output_type": "execute_result"
    }
   ],
   "source": [
    "cnn.calculateTopKCategoricalAccuracy(test_y, predictions)"
   ]
  }
 ],
 "metadata": {
  "kernelspec": {
   "display_name": "Python 3",
   "language": "python",
   "name": "python3"
  },
  "language_info": {
   "codemirror_mode": {
    "name": "ipython",
    "version": 3
   },
   "file_extension": ".py",
   "mimetype": "text/x-python",
   "name": "python",
   "nbconvert_exporter": "python",
   "pygments_lexer": "ipython3",
   "version": "3.7.4"
  }
 },
 "nbformat": 4,
 "nbformat_minor": 2
}
