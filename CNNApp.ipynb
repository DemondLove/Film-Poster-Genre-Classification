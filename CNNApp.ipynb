{
 "cells": [
  {
   "cell_type": "code",
   "execution_count": null,
   "metadata": {},
   "outputs": [],
   "source": [
    "# Import Libraries\n",
    "from src import cnn\n",
    "from src import dataIO\n",
    "from src import dataPrep\n",
    "\n",
    "# Import CSV with links to the poster jpegs\n",
    "df = dataIO.readCSV(path='data/', file_name='MovieGenre.csv', encoding ='ISO-8859-1')\n",
    "\n",
    "df = df.iloc[list(range(400))]\n",
    "\n",
    "df = dataPrep.filterNULLs(df)\n",
    "\n",
    "df = dataPrep.extractPrimaryGenre(df)\n",
    "\n",
    "df = dataPrep.filterGenres(df)\n",
    "\n",
    "df, posterArray = dataIO.downloadPosterArray(df)\n",
    "\n",
    "primaryGenre = dataPrep.convertGenreVariable(df)\n",
    "\n",
    "# dataIO.saveDatasets(df=df, posterArray=posterArray, file_name_df='df2', file_name_posterArray='posterArray2')"
   ]
  },
  {
   "cell_type": "code",
   "execution_count": null,
   "metadata": {},
   "outputs": [],
   "source": [
    "# df, posterArray = dataIO.readSavedDatasets(file_name_df='df', file_name_posterArray='posterArray')\n",
    "\n",
    "# primaryGenre = dataPrep.convertGenreVariable(df)"
   ]
  },
  {
   "cell_type": "code",
   "execution_count": null,
   "metadata": {},
   "outputs": [],
   "source": [
    "train_y = primaryGenre[:300]\n",
    "test_y = primaryGenre[300:]\n",
    "\n",
    "train_x = posterArray[:300]\n",
    "test_x = posterArray[300:]"
   ]
  },
  {
   "cell_type": "code",
   "execution_count": null,
   "metadata": {},
   "outputs": [],
   "source": [
    "model = cnn.buildModel()"
   ]
  },
  {
   "cell_type": "code",
   "execution_count": null,
   "metadata": {},
   "outputs": [],
   "source": [
    "history = model.fit(train_x,\n",
    "                    train_y,\n",
    "                    epochs=3)"
   ]
  },
  {
   "cell_type": "code",
   "execution_count": null,
   "metadata": {},
   "outputs": [],
   "source": [
    "test_sample = dataPrep.reshapeTestDataset(test_x)"
   ]
  },
  {
   "cell_type": "code",
   "execution_count": null,
   "metadata": {},
   "outputs": [],
   "source": [
    "predictions = model.predict(test_sample)"
   ]
  },
  {
   "cell_type": "code",
   "execution_count": null,
   "metadata": {},
   "outputs": [],
   "source": [
    "cnn.calculateCategoricalAccuracy(test_y, predictions)"
   ]
  },
  {
   "cell_type": "code",
   "execution_count": null,
   "metadata": {},
   "outputs": [],
   "source": [
    "cnn.calculateTopKCategoricalAccuracy(test_y, predictions)"
   ]
  }
 ],
 "metadata": {
  "kernelspec": {
   "display_name": "Python 3",
   "language": "python",
   "name": "python3"
  },
  "language_info": {
   "codemirror_mode": {
    "name": "ipython",
    "version": 3
   },
   "file_extension": ".py",
   "mimetype": "text/x-python",
   "name": "python",
   "nbconvert_exporter": "python",
   "pygments_lexer": "ipython3",
   "version": "3.7.4"
  }
 },
 "nbformat": 4,
 "nbformat_minor": 2
}
